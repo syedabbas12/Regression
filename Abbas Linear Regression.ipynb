{
 "cells": [
  {
   "cell_type": "code",
   "execution_count": 1,
   "metadata": {
    "collapsed": true
   },
   "outputs": [],
   "source": [
    "from sklearn import datasets\n",
    "import pandas as pd\n",
    "from sklearn.preprocessing import StandardScaler\n",
    "from sklearn.cross_validation import train_test_split\n",
    "from sklearn.metrics import mean_squared_error\n",
    "from sklearn.metrics import r2_score\n",
    "from sklearn.linear_model import LinearRegression"
   ]
  },
  {
   "cell_type": "code",
   "execution_count": 2,
   "metadata": {
    "collapsed": false
   },
   "outputs": [
    {
     "name": "stdout",
     "output_type": "stream",
     "text": [
      "Boston House Prices dataset\n",
      "\n",
      "Notes\n",
      "------\n",
      "Data Set Characteristics:  \n",
      "\n",
      "    :Number of Instances: 506 \n",
      "\n",
      "    :Number of Attributes: 13 numeric/categorical predictive\n",
      "    \n",
      "    :Median Value (attribute 14) is usually the target\n",
      "\n",
      "    :Attribute Information (in order):\n",
      "        - CRIM     per capita crime rate by town\n",
      "        - ZN       proportion of residential land zoned for lots over 25,000 sq.ft.\n",
      "        - INDUS    proportion of non-retail business acres per town\n",
      "        - CHAS     Charles River dummy variable (= 1 if tract bounds river; 0 otherwise)\n",
      "        - NOX      nitric oxides concentration (parts per 10 million)\n",
      "        - RM       average number of rooms per dwelling\n",
      "        - AGE      proportion of owner-occupied units built prior to 1940\n",
      "        - DIS      weighted distances to five Boston employment centres\n",
      "        - RAD      index of accessibility to radial highways\n",
      "        - TAX      full-value property-tax rate per $10,000\n",
      "        - PTRATIO  pupil-teacher ratio by town\n",
      "        - B        1000(Bk - 0.63)^2 where Bk is the proportion of blacks by town\n",
      "        - LSTAT    % lower status of the population\n",
      "        - MEDV     Median value of owner-occupied homes in $1000's\n",
      "\n",
      "    :Missing Attribute Values: None\n",
      "\n",
      "    :Creator: Harrison, D. and Rubinfeld, D.L.\n",
      "\n",
      "This is a copy of UCI ML housing dataset.\n",
      "http://archive.ics.uci.edu/ml/datasets/Housing\n",
      "\n",
      "\n",
      "This dataset was taken from the StatLib library which is maintained at Carnegie Mellon University.\n",
      "\n",
      "The Boston house-price data of Harrison, D. and Rubinfeld, D.L. 'Hedonic\n",
      "prices and the demand for clean air', J. Environ. Economics & Management,\n",
      "vol.5, 81-102, 1978.   Used in Belsley, Kuh & Welsch, 'Regression diagnostics\n",
      "...', Wiley, 1980.   N.B. Various transformations are used in the table on\n",
      "pages 244-261 of the latter.\n",
      "\n",
      "The Boston house-price data has been used in many machine learning papers that address regression\n",
      "problems.   \n",
      "     \n",
      "**References**\n",
      "\n",
      "   - Belsley, Kuh & Welsch, 'Regression diagnostics: Identifying Influential Data and Sources of Collinearity', Wiley, 1980. 244-261.\n",
      "   - Quinlan,R. (1993). Combining Instance-Based and Model-Based Learning. In Proceedings on the Tenth International Conference of Machine Learning, 236-243, University of Massachusetts, Amherst. Morgan Kaufmann.\n",
      "   - many more! (see http://archive.ics.uci.edu/ml/datasets/Housing)\n",
      "\n"
     ]
    }
   ],
   "source": [
    "bean = datasets.load_boston()\n",
    "print bean.DESCR"
   ]
  },
  {
   "cell_type": "code",
   "execution_count": 3,
   "metadata": {
    "collapsed": true
   },
   "outputs": [],
   "source": [
    "def load_boston():\n",
    "    scaler = StandardScaler()\n",
    "    boston = datasets.load_boston()\n",
    "    X=boston.data\n",
    "    y=boston.target\n",
    "    X = scaler.fit_transform(X)\n",
    "    return train_test_split(X,y)"
   ]
  },
  {
   "cell_type": "code",
   "execution_count": 4,
   "metadata": {
    "collapsed": true
   },
   "outputs": [],
   "source": [
    "X_train, X_test, y_train, y_test = load_boston()"
   ]
  },
  {
   "cell_type": "code",
   "execution_count": 5,
   "metadata": {
    "collapsed": false
   },
   "outputs": [
    {
     "data": {
      "text/plain": [
       "(379L, 13L)"
      ]
     },
     "execution_count": 5,
     "metadata": {},
     "output_type": "execute_result"
    }
   ],
   "source": [
    "X_train.shape"
   ]
  },
  {
   "cell_type": "code",
   "execution_count": 6,
   "metadata": {
    "collapsed": false
   },
   "outputs": [
    {
     "data": {
      "text/plain": [
       "LinearRegression(copy_X=True, fit_intercept=True, n_jobs=1, normalize=False)"
      ]
     },
     "execution_count": 6,
     "metadata": {},
     "output_type": "execute_result"
    }
   ],
   "source": [
    "clf = LinearRegression()\n",
    "clf.fit(X_train, y_train)"
   ]
  },
  {
   "cell_type": "code",
   "execution_count": 7,
   "metadata": {
    "collapsed": false
   },
   "outputs": [
    {
     "data": {
      "text/plain": [
       "[(12.699999999999999, 11.614403717756783),\n",
       " (15.199999999999999, 11.133750791450188),\n",
       " (20.300000000000001, 22.101278674862769),\n",
       " (18.5, 19.576631585400989),\n",
       " (21.0, 21.292268225691323),\n",
       " (50.0, 43.539527327133982),\n",
       " (18.399999999999999, 19.525444098112981),\n",
       " (32.0, 33.430180918050858),\n",
       " (21.0, 20.831007172232098),\n",
       " (48.299999999999997, 36.990857989614213),\n",
       " (13.800000000000001, 16.703648360343458),\n",
       " (19.600000000000001, 23.048428728176404),\n",
       " (8.6999999999999993, 9.0293071029938599),\n",
       " (13.4, 16.60458437046578),\n",
       " (27.100000000000001, 26.744907721765202),\n",
       " (27.5, 31.416482010378608),\n",
       " (22.100000000000001, 26.986521725843051),\n",
       " (25.0, 28.402871267965484),\n",
       " (31.0, 34.77503941647457),\n",
       " (19.5, 20.356165964341969),\n",
       " (23.699999999999999, 27.00212554023939),\n",
       " (29.100000000000001, 31.339636511298931),\n",
       " (14.9, 15.325082180170256),\n",
       " (23.399999999999999, 23.871793725749058),\n",
       " (24.699999999999999, 24.536737200617701),\n",
       " (19.600000000000001, 19.0372550206338),\n",
       " (17.399999999999999, 22.275001957728932),\n",
       " (26.699999999999999, 32.506327561313221),\n",
       " (33.799999999999997, 35.150270075598542),\n",
       " (33.100000000000001, 33.861078928382966),\n",
       " (23.600000000000001, 30.727815541044617),\n",
       " (23.899999999999999, 24.774904918021534),\n",
       " (37.899999999999999, 34.163552394533966),\n",
       " (14.800000000000001, 14.75550219623811),\n",
       " (24.699999999999999, 24.390543431933086),\n",
       " (27.5, 15.182657303399413),\n",
       " (11.5, 14.706810737887526),\n",
       " (46.0, 39.276544079563962),\n",
       " (22.699999999999999, 21.607888441051507),\n",
       " (20.100000000000001, 18.716075594384382),\n",
       " (43.799999999999997, 34.924670918536442),\n",
       " (21.399999999999999, 22.206527889600533),\n",
       " (20.600000000000001, 22.466287180734568),\n",
       " (17.699999999999999, 20.40793493832799),\n",
       " (16.800000000000001, 19.804210158117701),\n",
       " (20.600000000000001, 19.5237685199777),\n",
       " (30.800000000000001, 31.43670731108887),\n",
       " (13.1, 14.493244694465469),\n",
       " (24.100000000000001, 19.880884245448868),\n",
       " (20.5, 19.591174440979721),\n",
       " (20.399999999999999, 22.899552519657028),\n",
       " (16.5, 11.478530276909236),\n",
       " (50.0, 40.213738608248001),\n",
       " (23.800000000000001, 24.862987121587878),\n",
       " (20.100000000000001, 15.056432349605947),\n",
       " (17.5, 18.761167410478869),\n",
       " (13.300000000000001, 16.309563385854439),\n",
       " (22.800000000000001, 28.911268721575738),\n",
       " (14.4, 9.1434243030145961),\n",
       " (26.600000000000001, 27.776350328332803),\n",
       " (22.600000000000001, 24.019200681771494),\n",
       " (16.699999999999999, 20.704517081355462),\n",
       " (25.300000000000001, 24.989995060939158),\n",
       " (42.799999999999997, 29.088004132017012),\n",
       " (23.100000000000001, 11.506536025806909),\n",
       " (17.100000000000001, 19.731960334037563),\n",
       " (24.399999999999999, 23.890447285214641),\n",
       " (28.399999999999999, 28.693877167920434),\n",
       " (19.699999999999999, 14.312659589994947),\n",
       " (50.0, 40.720297976410265),\n",
       " (16.600000000000001, 15.550371031155954),\n",
       " (8.5, 7.5330090057829668),\n",
       " (19.600000000000001, 21.129966624001003),\n",
       " (13.300000000000001, 13.620015549535012),\n",
       " (25.0, 27.371837225077474),\n",
       " (26.600000000000001, 27.680392732455765),\n",
       " (10.9, 14.006019340278712),\n",
       " (13.4, 13.499957996537503),\n",
       " (23.199999999999999, 22.531313634305906),\n",
       " (14.5, 13.974198004344045),\n",
       " (16.699999999999999, 19.84370156636162),\n",
       " (16.199999999999999, 20.616786415331113),\n",
       " (23.300000000000001, 25.443508126235464),\n",
       " (15.1, 17.628736540549664),\n",
       " (19.800000000000001, 21.338060048301966),\n",
       " (22.5, 22.274093394962943),\n",
       " (22.600000000000001, 19.529530558378859),\n",
       " (12.6, 18.403451865196821),\n",
       " (41.299999999999997, 32.83700702497687),\n",
       " (17.399999999999999, 15.620784335321037),\n",
       " (25.0, 28.880050906537313),\n",
       " (21.699999999999999, 22.114449522935576),\n",
       " (15.6, 12.272574333212766),\n",
       " (14.9, 17.974008190590343),\n",
       " (15.199999999999999, 19.604906625513671),\n",
       " (23.699999999999999, 11.193954871591803),\n",
       " (14.199999999999999, 18.480849670460358),\n",
       " (16.199999999999999, 14.998648959576578),\n",
       " (18.100000000000001, 16.915115291267707),\n",
       " (20.300000000000001, 19.047729597077286),\n",
       " (14.9, 17.346834166871105),\n",
       " (21.699999999999999, 21.427209752230667),\n",
       " (20.800000000000001, 23.031491118327583),\n",
       " (50.0, 36.22146441863066),\n",
       " (20.0, 16.276607270856054),\n",
       " (24.300000000000001, 28.800393107984981),\n",
       " (23.300000000000001, 28.266737429468833),\n",
       " (19.100000000000001, 17.047306414443337),\n",
       " (35.399999999999999, 30.911263012000241),\n",
       " (18.699999999999999, 20.809343995482688),\n",
       " (28.699999999999999, 25.231465573193013),\n",
       " (28.0, 28.278410209378837),\n",
       " (50.0, 33.900230371544822),\n",
       " (22.199999999999999, 26.063624099209864),\n",
       " (18.0, 18.607793517847597),\n",
       " (23.699999999999999, 28.263529603016796),\n",
       " (15.0, 25.33203745164791),\n",
       " (21.399999999999999, 23.561997418197372),\n",
       " (18.5, 25.249274340350631),\n",
       " (32.700000000000003, 29.91944618704343),\n",
       " (18.800000000000001, 20.92307794433502),\n",
       " (24.600000000000001, 24.501076908387628),\n",
       " (33.399999999999999, 28.451657744924379),\n",
       " (7.5, 13.445543743973618),\n",
       " (10.4, 7.1812908425806459),\n",
       " (23.199999999999999, 26.857496198451713),\n",
       " (17.199999999999999, 14.3842681437623)]"
      ]
     },
     "execution_count": 7,
     "metadata": {},
     "output_type": "execute_result"
    }
   ],
   "source": [
    "zip (y_test, clf.predict(X_test))"
   ]
  },
  {
   "cell_type": "code",
   "execution_count": 1,
   "metadata": {
    "collapsed": true
   },
   "outputs": [],
   "source": [
    "from sklearn.datasets import load_boston "
   ]
  },
  {
   "cell_type": "code",
   "execution_count": 2,
   "metadata": {
    "collapsed": true
   },
   "outputs": [],
   "source": [
    "boston=load_boston()"
   ]
  },
  {
   "cell_type": "code",
   "execution_count": 4,
   "metadata": {
    "collapsed": true
   },
   "outputs": [],
   "source": [
    "X, Y=boston.data, boston.target"
   ]
  },
  {
   "cell_type": "code",
   "execution_count": 5,
   "metadata": {
    "collapsed": true
   },
   "outputs": [],
   "source": [
    "n_samples, n_features=X.shape"
   ]
  },
  {
   "cell_type": "code",
   "execution_count": 6,
   "metadata": {
    "collapsed": false
   },
   "outputs": [
    {
     "name": "stdout",
     "output_type": "stream",
     "text": [
      "(506L, 13L)\n"
     ]
    }
   ],
   "source": [
    "print (n_samples, n_features)"
   ]
  },
  {
   "cell_type": "code",
   "execution_count": 7,
   "metadata": {
    "collapsed": false
   },
   "outputs": [
    {
     "name": "stdout",
     "output_type": "stream",
     "text": [
      "['CRIM' 'ZN' 'INDUS' 'CHAS' 'NOX' 'RM' 'AGE' 'DIS' 'RAD' 'TAX' 'PTRATIO'\n",
      " 'B' 'LSTAT']\n"
     ]
    }
   ],
   "source": [
    "print (boston.feature_names)"
   ]
  },
  {
   "cell_type": "code",
   "execution_count": 10,
   "metadata": {
    "collapsed": true
   },
   "outputs": [],
   "source": [
    "from sklearn.linear_model import LinearRegression"
   ]
  },
  {
   "cell_type": "code",
   "execution_count": 11,
   "metadata": {
    "collapsed": true
   },
   "outputs": [],
   "source": [
    "model = LinearRegression()"
   ]
  },
  {
   "cell_type": "code",
   "execution_count": 12,
   "metadata": {
    "collapsed": false
   },
   "outputs": [
    {
     "data": {
      "text/plain": [
       "LinearRegression(copy_X=True, fit_intercept=True, n_jobs=1, normalize=False)"
      ]
     },
     "execution_count": 12,
     "metadata": {},
     "output_type": "execute_result"
    }
   ],
   "source": [
    "model.fit(X, Y)"
   ]
  },
  {
   "cell_type": "code",
   "execution_count": 13,
   "metadata": {
    "collapsed": false
   },
   "outputs": [
    {
     "name": "stdout",
     "output_type": "stream",
     "text": [
      "36.4911032804\n"
     ]
    }
   ],
   "source": [
    "print (model.intercept_)"
   ]
  },
  {
   "cell_type": "code",
   "execution_count": 14,
   "metadata": {
    "collapsed": true
   },
   "outputs": [],
   "source": [
    "from sklearn.metrics import mean_squared_error"
   ]
  },
  {
   "cell_type": "code",
   "execution_count": 17,
   "metadata": {
    "collapsed": false
   },
   "outputs": [],
   "source": [
    "mse= mean_squared_error(Y, model.predict(X))"
   ]
  },
  {
   "cell_type": "code",
   "execution_count": 67,
   "metadata": {
    "collapsed": false
   },
   "outputs": [
    {
     "name": "stdout",
     "output_type": "stream",
     "text": [
      "mean squared error): 23.054\n"
     ]
    }
   ],
   "source": [
    "print(\"mean squared error): {:.5}\".format(mse))"
   ]
  },
  {
   "cell_type": "code",
   "execution_count": 20,
   "metadata": {
    "collapsed": true
   },
   "outputs": [],
   "source": [
    "import numpy as np"
   ]
  },
  {
   "cell_type": "code",
   "execution_count": 23,
   "metadata": {
    "collapsed": false
   },
   "outputs": [
    {
     "data": {
      "text/plain": [
       "LinearRegression(copy_X=True, fit_intercept=True, n_jobs=1, normalize=False)"
      ]
     },
     "execution_count": 23,
     "metadata": {},
     "output_type": "execute_result"
    }
   ],
   "source": [
    "model.fit(X[::2], Y[::2])"
   ]
  },
  {
   "cell_type": "code",
   "execution_count": 74,
   "metadata": {
    "collapsed": false
   },
   "outputs": [
    {
     "name": "stdout",
     "output_type": "stream",
     "text": [
      "R2 score: 0.721232272632\n"
     ]
    }
   ],
   "source": [
    "print (\"R2 score: %s\" % model.score(X[1::3], Y[1::3]))"
   ]
  },
  {
   "cell_type": "code",
   "execution_count": 26,
   "metadata": {
    "collapsed": true
   },
   "outputs": [],
   "source": [
    "from sklearn import linear_model"
   ]
  },
  {
   "cell_type": "code",
   "execution_count": 75,
   "metadata": {
    "collapsed": false
   },
   "outputs": [
    {
     "data": {
      "text/plain": [
       "['ARDRegression',\n",
       " 'BayesianRidge',\n",
       " 'ElasticNet',\n",
       " 'ElasticNetCV',\n",
       " 'Hinge',\n",
       " 'Huber',\n",
       " 'Lars',\n",
       " 'LarsCV',\n",
       " 'Lasso',\n",
       " 'LassoCV',\n",
       " 'LassoLars',\n",
       " 'LassoLarsCV',\n",
       " 'LassoLarsIC',\n",
       " 'LinearRegression',\n",
       " 'Log',\n",
       " 'LogisticRegression',\n",
       " 'LogisticRegressionCV',\n",
       " 'ModifiedHuber',\n",
       " 'MultiTaskElasticNet',\n",
       " 'MultiTaskElasticNetCV',\n",
       " 'MultiTaskLasso',\n",
       " 'MultiTaskLassoCV',\n",
       " 'OrthogonalMatchingPursuit',\n",
       " 'OrthogonalMatchingPursuitCV',\n",
       " 'PassiveAggressiveClassifier',\n",
       " 'PassiveAggressiveRegressor',\n",
       " 'Perceptron',\n",
       " 'RANSACRegressor',\n",
       " 'RandomizedLasso',\n",
       " 'RandomizedLogisticRegression',\n",
       " 'Ridge',\n",
       " 'RidgeCV',\n",
       " 'RidgeClassifier',\n",
       " 'RidgeClassifierCV',\n",
       " 'SGDClassifier',\n",
       " 'SGDRegressor',\n",
       " 'SquaredLoss',\n",
       " 'TheilSenRegressor',\n",
       " '__all__',\n",
       " '__builtins__',\n",
       " '__doc__',\n",
       " '__file__',\n",
       " '__name__',\n",
       " '__package__',\n",
       " '__path__',\n",
       " 'base',\n",
       " 'bayes',\n",
       " 'cd_fast',\n",
       " 'coordinate_descent',\n",
       " 'enet_path',\n",
       " 'lars_path',\n",
       " 'lasso_path',\n",
       " 'lasso_stability_path',\n",
       " 'least_angle',\n",
       " 'logistic',\n",
       " 'logistic_regression_path',\n",
       " 'omp',\n",
       " 'orthogonal_mp',\n",
       " 'orthogonal_mp_gram',\n",
       " 'passive_aggressive',\n",
       " 'perceptron',\n",
       " 'randomized_l1',\n",
       " 'ransac',\n",
       " 'ridge',\n",
       " 'ridge_regression',\n",
       " 'sgd_fast',\n",
       " 'stochastic_gradient',\n",
       " 'theil_sen']"
      ]
     },
     "execution_count": 75,
     "metadata": {},
     "output_type": "execute_result"
    }
   ],
   "source": [
    "dir(linear_model)"
   ]
  },
  {
   "cell_type": "code",
   "execution_count": 62,
   "metadata": {
    "collapsed": true
   },
   "outputs": [],
   "source": [
    "from sklearn.linear_model import Lasso"
   ]
  },
  {
   "cell_type": "code",
   "execution_count": 44,
   "metadata": {
    "collapsed": true
   },
   "outputs": [],
   "source": [
    "model=Lasso(alpha=0.1)"
   ]
  },
  {
   "cell_type": "code",
   "execution_count": 45,
   "metadata": {
    "collapsed": false
   },
   "outputs": [
    {
     "data": {
      "text/plain": [
       "Lasso(alpha=0.1, copy_X=True, fit_intercept=True, max_iter=1000,\n",
       "   normalize=False, positive=False, precompute=False, random_state=None,\n",
       "   selection='cyclic', tol=0.0001, warm_start=False)"
      ]
     },
     "execution_count": 45,
     "metadata": {},
     "output_type": "execute_result"
    }
   ],
   "source": [
    "model.fit(X, Y)"
   ]
  },
  {
   "cell_type": "code",
   "execution_count": 46,
   "metadata": {
    "collapsed": false
   },
   "outputs": [
    {
     "name": "stdout",
     "output_type": "stream",
     "text": [
      "25.5847704285\n"
     ]
    }
   ],
   "source": [
    "print(model.intercept_)"
   ]
  },
  {
   "cell_type": "code",
   "execution_count": 47,
   "metadata": {
    "collapsed": false
   },
   "outputs": [
    {
     "name": "stdout",
     "output_type": "stream",
     "text": [
      "(13L,)\n"
     ]
    }
   ],
   "source": [
    "print (model.coef_.shape)"
   ]
  },
  {
   "cell_type": "code",
   "execution_count": 55,
   "metadata": {
    "collapsed": false
   },
   "outputs": [],
   "source": [
    "from sklearn.metrics import mean_squared_error"
   ]
  },
  {
   "cell_type": "code",
   "execution_count": 58,
   "metadata": {
    "collapsed": true
   },
   "outputs": [],
   "source": [
    "mse= mean_squared_error(Y, model.predict(X))"
   ]
  },
  {
   "cell_type": "code",
   "execution_count": 73,
   "metadata": {
    "collapsed": false
   },
   "outputs": [
    {
     "name": "stdout",
     "output_type": "stream",
     "text": [
      "mean squared error): 23.054\n"
     ]
    }
   ],
   "source": [
    "print(\"mean squared error): {:.5}\".format(mse))"
   ]
  },
  {
   "cell_type": "code",
   "execution_count": 71,
   "metadata": {
    "collapsed": false
   },
   "outputs": [
    {
     "data": {
      "text/plain": [
       "Lasso(alpha=0.1, copy_X=True, fit_intercept=True, max_iter=1000,\n",
       "   normalize=False, positive=False, precompute=False, random_state=None,\n",
       "   selection='cyclic', tol=0.0001, warm_start=False)"
      ]
     },
     "execution_count": 71,
     "metadata": {},
     "output_type": "execute_result"
    }
   ],
   "source": [
    "model.fit(X[::3], Y[::3])"
   ]
  },
  {
   "cell_type": "code",
   "execution_count": 70,
   "metadata": {
    "collapsed": false
   },
   "outputs": [
    {
     "name": "stdout",
     "output_type": "stream",
     "text": [
      "R2 score: 0.719737875598\n"
     ]
    }
   ],
   "source": [
    "print (\"R2 score: %s\" % model.score(X[1::3], Y[1::3]))"
   ]
  },
  {
   "cell_type": "markdown",
   "metadata": {},
   "source": []
  }
 ],
 "metadata": {
  "kernelspec": {
   "display_name": "Python 2",
   "language": "python",
   "name": "python2"
  },
  "language_info": {
   "codemirror_mode": {
    "name": "ipython",
    "version": 2
   },
   "file_extension": ".py",
   "mimetype": "text/x-python",
   "name": "python",
   "nbconvert_exporter": "python",
   "pygments_lexer": "ipython2",
   "version": "2.7.10"
  }
 },
 "nbformat": 4,
 "nbformat_minor": 0
}
