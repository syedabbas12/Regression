{
 "cells": [
  {
   "cell_type": "code",
   "execution_count": 1,
   "metadata": {
    "collapsed": true
   },
   "outputs": [],
   "source": [
    "from sklearn import datasets\n",
    "import pandas as pd\n",
    "from sklearn.preprocessing import StandardScaler\n",
    "from sklearn.cross_validation import train_test_split\n",
    "from sklearn.metrics import mean_squared_error\n",
    "from sklearn.metrics import r2_score\n",
    "from sklearn.linear_model import LinearRegression"
   ]
  },
  {
   "cell_type": "code",
   "execution_count": 2,
   "metadata": {
    "collapsed": false
   },
   "outputs": [
    {
     "name": "stdout",
     "output_type": "stream",
     "text": [
      "Boston House Prices dataset\n",
      "\n",
      "Notes\n",
      "------\n",
      "Data Set Characteristics:  \n",
      "\n",
      "    :Number of Instances: 506 \n",
      "\n",
      "    :Number of Attributes: 13 numeric/categorical predictive\n",
      "    \n",
      "    :Median Value (attribute 14) is usually the target\n",
      "\n",
      "    :Attribute Information (in order):\n",
      "        - CRIM     per capita crime rate by town\n",
      "        - ZN       proportion of residential land zoned for lots over 25,000 sq.ft.\n",
      "        - INDUS    proportion of non-retail business acres per town\n",
      "        - CHAS     Charles River dummy variable (= 1 if tract bounds river; 0 otherwise)\n",
      "        - NOX      nitric oxides concentration (parts per 10 million)\n",
      "        - RM       average number of rooms per dwelling\n",
      "        - AGE      proportion of owner-occupied units built prior to 1940\n",
      "        - DIS      weighted distances to five Boston employment centres\n",
      "        - RAD      index of accessibility to radial highways\n",
      "        - TAX      full-value property-tax rate per $10,000\n",
      "        - PTRATIO  pupil-teacher ratio by town\n",
      "        - B        1000(Bk - 0.63)^2 where Bk is the proportion of blacks by town\n",
      "        - LSTAT    % lower status of the population\n",
      "        - MEDV     Median value of owner-occupied homes in $1000's\n",
      "\n",
      "    :Missing Attribute Values: None\n",
      "\n",
      "    :Creator: Harrison, D. and Rubinfeld, D.L.\n",
      "\n",
      "This is a copy of UCI ML housing dataset.\n",
      "http://archive.ics.uci.edu/ml/datasets/Housing\n",
      "\n",
      "\n",
      "This dataset was taken from the StatLib library which is maintained at Carnegie Mellon University.\n",
      "\n",
      "The Boston house-price data of Harrison, D. and Rubinfeld, D.L. 'Hedonic\n",
      "prices and the demand for clean air', J. Environ. Economics & Management,\n",
      "vol.5, 81-102, 1978.   Used in Belsley, Kuh & Welsch, 'Regression diagnostics\n",
      "...', Wiley, 1980.   N.B. Various transformations are used in the table on\n",
      "pages 244-261 of the latter.\n",
      "\n",
      "The Boston house-price data has been used in many machine learning papers that address regression\n",
      "problems.   \n",
      "     \n",
      "**References**\n",
      "\n",
      "   - Belsley, Kuh & Welsch, 'Regression diagnostics: Identifying Influential Data and Sources of Collinearity', Wiley, 1980. 244-261.\n",
      "   - Quinlan,R. (1993). Combining Instance-Based and Model-Based Learning. In Proceedings on the Tenth International Conference of Machine Learning, 236-243, University of Massachusetts, Amherst. Morgan Kaufmann.\n",
      "   - many more! (see http://archive.ics.uci.edu/ml/datasets/Housing)\n",
      "\n"
     ]
    }
   ],
   "source": [
    "bean = datasets.load_boston()\n",
    "print bean.DESCR"
   ]
  },
  {
   "cell_type": "code",
   "execution_count": 3,
   "metadata": {
    "collapsed": true
   },
   "outputs": [],
   "source": [
    "def load_boston():\n",
    "    scaler = StandardScaler()\n",
    "    boston = datasets.load_boston()\n",
    "    X=boston.data\n",
    "    y=boston.target\n",
    "    X = scaler.fit_transform(X)\n",
    "    return train_test_split(X,y)"
   ]
  },
  {
   "cell_type": "code",
   "execution_count": 4,
   "metadata": {
    "collapsed": true
   },
   "outputs": [],
   "source": [
    "X_train, X_test, y_train, y_test = load_boston()"
   ]
  },
  {
   "cell_type": "code",
   "execution_count": 5,
   "metadata": {
    "collapsed": false
   },
   "outputs": [
    {
     "data": {
      "text/plain": [
       "(379L, 13L)"
      ]
     },
     "execution_count": 5,
     "metadata": {},
     "output_type": "execute_result"
    }
   ],
   "source": [
    "X_train.shape"
   ]
  },
  {
   "cell_type": "code",
   "execution_count": 6,
   "metadata": {
    "collapsed": false
   },
   "outputs": [
    {
     "data": {
      "text/plain": [
       "LinearRegression(copy_X=True, fit_intercept=True, n_jobs=1, normalize=False)"
      ]
     },
     "execution_count": 6,
     "metadata": {},
     "output_type": "execute_result"
    }
   ],
   "source": [
    "clf = LinearRegression()\n",
    "clf.fit(X_train, y_train)"
   ]
  },
  {
   "cell_type": "code",
   "execution_count": 7,
   "metadata": {
    "collapsed": false
   },
   "outputs": [
    {
     "data": {
      "text/plain": [
       "[(19.399999999999999, 22.807639395940871),\n",
       " (23.300000000000001, 24.870982122407941),\n",
       " (22.300000000000001, 27.066118876659431),\n",
       " (24.5, 21.119762560393351),\n",
       " (48.5, 42.168869673512802),\n",
       " (37.200000000000003, 33.14607231212436),\n",
       " (21.399999999999999, 20.536615611813168),\n",
       " (22.600000000000001, 22.514836576299299),\n",
       " (28.600000000000001, 28.784193788999133),\n",
       " (31.199999999999999, 28.044996986477898),\n",
       " (45.399999999999999, 39.385490493273863),\n",
       " (21.100000000000001, 22.084892330922397),\n",
       " (17.800000000000001, 16.756294658583755),\n",
       " (50.0, 43.370316327354104),\n",
       " (17.199999999999999, 17.622923480304074),\n",
       " (26.600000000000001, 27.858270163537259),\n",
       " (20.699999999999999, 21.043607491876099),\n",
       " (22.199999999999999, 23.90231073148356),\n",
       " (20.5, 21.065580804874724),\n",
       " (24.800000000000001, 26.673683328960895),\n",
       " (17.0, 21.458672590646437),\n",
       " (19.5, 19.883635746775411),\n",
       " (30.699999999999999, 31.059852160727964),\n",
       " (14.0, 13.859782272361727),\n",
       " (21.899999999999999, 15.266889075107562),\n",
       " (26.600000000000001, 27.961287781770398),\n",
       " (26.199999999999999, 23.812129912885304),\n",
       " (23.100000000000001, 10.565360967906971),\n",
       " (14.6, 19.886397977313546),\n",
       " (14.800000000000001, 14.511784665676286),\n",
       " (42.799999999999997, 29.986713377110078),\n",
       " (27.5, 13.603050092161716),\n",
       " (24.300000000000001, 19.650415288656923),\n",
       " (21.800000000000001, 21.434415379456663),\n",
       " (17.100000000000001, 17.473724609173189),\n",
       " (24.100000000000001, 19.773779928476117),\n",
       " (28.5, 33.307677839191065),\n",
       " (17.100000000000001, 19.423597996111944),\n",
       " (22.600000000000001, 26.492259507161997),\n",
       " (24.600000000000001, 29.215783393243772),\n",
       " (21.0, 21.169445464886614),\n",
       " (10.9, 19.130964268840025),\n",
       " (19.100000000000001, 17.523089912209912),\n",
       " (11.5, 14.310018825694762),\n",
       " (23.899999999999999, 24.80349813550038),\n",
       " (20.600000000000001, 27.523334947113192),\n",
       " (10.199999999999999, 16.486084581379131),\n",
       " (29.100000000000001, 30.310886694389868),\n",
       " (21.800000000000001, 20.295882339868506),\n",
       " (15.6, 11.234448585452276),\n",
       " (34.899999999999999, 29.528143446384636),\n",
       " (17.5, 16.132185113100924),\n",
       " (22.0, 26.338477295079436),\n",
       " (17.399999999999999, 22.742669975117398),\n",
       " (15.6, 13.243438695574813),\n",
       " (7.4000000000000004, 5.6466168508335244),\n",
       " (26.399999999999999, 28.783384366046906),\n",
       " (23.100000000000001, 16.34250828229003),\n",
       " (8.4000000000000004, 4.5778550822469519),\n",
       " (15.6, 15.570812638461057),\n",
       " (19.399999999999999, 25.010745331645641),\n",
       " (20.399999999999999, 19.208426067312129),\n",
       " (16.699999999999999, 21.265217662679923),\n",
       " (22.899999999999999, 29.322173925004876),\n",
       " (15.300000000000001, 18.852854555863342),\n",
       " (16.199999999999999, 20.38280639221421),\n",
       " (13.300000000000001, 20.946901260897569),\n",
       " (22.0, 27.446361919012055),\n",
       " (19.899999999999999, 18.90318688557597),\n",
       " (13.9, 18.371451349833318),\n",
       " (29.600000000000001, 24.538144234453465),\n",
       " (11.800000000000001, 7.6291457393855069),\n",
       " (17.800000000000001, 8.6184120039945142),\n",
       " (32.5, 31.326279931168891),\n",
       " (20.199999999999999, 15.504796574204789),\n",
       " (10.199999999999999, 6.4358342745838897),\n",
       " (21.699999999999999, 22.604200025410169),\n",
       " (18.5, 18.874503062789984),\n",
       " (19.600000000000001, 23.904911775805104),\n",
       " (22.5, 17.929910801038375),\n",
       " (24.0, 29.698519555974283),\n",
       " (12.699999999999999, 18.218783864950375),\n",
       " (20.5, 19.802834533685587),\n",
       " (20.600000000000001, 21.741883861810969),\n",
       " (19.600000000000001, 17.265598426810293),\n",
       " (13.1, 14.141050341438246),\n",
       " (32.0, 33.921654359534259),\n",
       " (15.0, 18.984897434321223),\n",
       " (27.100000000000001, 19.511829211857624),\n",
       " (19.0, 14.248010449103571),\n",
       " (11.699999999999999, 14.709056702979019),\n",
       " (18.199999999999999, 19.139286370756022),\n",
       " (22.0, 20.826602199710862),\n",
       " (15.199999999999999, 19.716886974674296),\n",
       " (10.9, 14.139287800516955),\n",
       " (19.0, 20.856355789683054),\n",
       " (23.399999999999999, 23.633505890917387),\n",
       " (25.0, 25.011234962690651),\n",
       " (39.799999999999997, 35.359315774010284),\n",
       " (17.100000000000001, 19.739479221778591),\n",
       " (31.5, 33.162127687685683),\n",
       " (20.100000000000001, 23.722853454567069),\n",
       " (21.699999999999999, 21.751914950008807),\n",
       " (25.0, 29.636576399190247),\n",
       " (10.199999999999999, 17.416933211850491),\n",
       " (10.4, 6.8364168882486034),\n",
       " (33.399999999999999, 35.994067062782776),\n",
       " (15.699999999999999, 15.060672762655422),\n",
       " (9.5999999999999996, 14.353742404206304),\n",
       " (13.800000000000001, 11.08852614510784),\n",
       " (50.0, 44.66392608759395),\n",
       " (33.799999999999997, 34.689407377444404),\n",
       " (28.699999999999999, 31.051700003809831),\n",
       " (21.199999999999999, 22.587893656668346),\n",
       " (32.899999999999999, 30.105735200322702),\n",
       " (37.299999999999997, 34.362855040555587),\n",
       " (16.699999999999999, 19.854693772578798),\n",
       " (14.1, 19.405986406277368),\n",
       " (16.5, 11.346840021269355),\n",
       " (19.300000000000001, 20.772460794947747),\n",
       " (19.800000000000001, 21.236452715756066),\n",
       " (14.300000000000001, 14.155627662246509),\n",
       " (22.899999999999999, 19.822600841588915),\n",
       " (34.899999999999999, 33.894123728889767),\n",
       " (14.9, 17.171879730089586),\n",
       " (28.699999999999999, 28.755166796664163),\n",
       " (25.0, 27.392580605402181)]"
      ]
     },
     "execution_count": 7,
     "metadata": {},
     "output_type": "execute_result"
    }
   ],
   "source": [
    "zip (y_test, clf.predict(X_test))"
   ]
  },
  {
   "cell_type": "code",
   "execution_count": 8,
   "metadata": {
    "collapsed": true
   },
   "outputs": [],
   "source": [
    "from sklearn.datasets import load_boston\n",
    "X, y = load_boston().data, load_boston().target\n",
    "from sklearn.cross_validation import train_test_split\n",
    "import numpy as np\n",
    "np.random.seed(100)\n",
    "X_train, X_test, y_train, y_test = train_test_split(X, y, test_size=.2)"
   ]
  },
  {
   "cell_type": "code",
   "execution_count": 9,
   "metadata": {
    "collapsed": false
   },
   "outputs": [
    {
     "data": {
      "text/plain": [
       "(506L, 13L)"
      ]
     },
     "execution_count": 9,
     "metadata": {},
     "output_type": "execute_result"
    }
   ],
   "source": [
    "X.shape"
   ]
  },
  {
   "cell_type": "code",
   "execution_count": 10,
   "metadata": {
    "collapsed": false
   },
   "outputs": [
    {
     "name": "stdout",
     "output_type": "stream",
     "text": [
      "R^2: 0.755446732965\n"
     ]
    }
   ],
   "source": [
    "from sklearn.linear_model import LinearRegression\n",
    "model = LinearRegression()\n",
    "model.fit(X_train, y_train)\n",
    "print \"R^2:\", model.score(X_test, y_test)"
   ]
  },
  {
   "cell_type": "code",
   "execution_count": 11,
   "metadata": {
    "collapsed": true
   },
   "outputs": [],
   "source": [
    "mse= mean_squared_error(y, model.predict(X))"
   ]
  },
  {
   "cell_type": "code",
   "execution_count": 12,
   "metadata": {
    "collapsed": false
   },
   "outputs": [
    {
     "name": "stdout",
     "output_type": "stream",
     "text": [
      "mean squared error): 22.0\n"
     ]
    }
   ],
   "source": [
    "print(\"mean squared error): {:.3}\".format(mse))"
   ]
  },
  {
   "cell_type": "code",
   "execution_count": 13,
   "metadata": {
    "collapsed": true
   },
   "outputs": [],
   "source": [
    "import numpy as np\n",
    "from sklearn import linear_model"
   ]
  },
  {
   "cell_type": "code",
   "execution_count": 14,
   "metadata": {
    "collapsed": true
   },
   "outputs": [],
   "source": [
    "from sklearn.linear_model import Lasso"
   ]
  },
  {
   "cell_type": "code",
   "execution_count": 15,
   "metadata": {
    "collapsed": false
   },
   "outputs": [
    {
     "name": "stdout",
     "output_type": "stream",
     "text": [
      "R^2: 0.739049861402\n"
     ]
    }
   ],
   "source": [
    "model=Lasso(alpha=0.1)\n",
    "model.fit(X_train, y_train)\n",
    "print \"R^2:\", model.score(X_test, y_test)"
   ]
  },
  {
   "cell_type": "code",
   "execution_count": 16,
   "metadata": {
    "collapsed": true
   },
   "outputs": [],
   "source": [
    "mse= mean_squared_error(y, model.predict(X))"
   ]
  },
  {
   "cell_type": "code",
   "execution_count": 17,
   "metadata": {
    "collapsed": false
   },
   "outputs": [
    {
     "name": "stdout",
     "output_type": "stream",
     "text": [
      "mean squared error): 23.1\n"
     ]
    }
   ],
   "source": [
    "print(\"mean squared error): {:.3}\".format(mse))"
   ]
  },
  {
   "cell_type": "code",
   "execution_count": 18,
   "metadata": {
    "collapsed": false
   },
   "outputs": [
    {
     "name": "stdout",
     "output_type": "stream",
     "text": [
      "R^2: 0.722064013374\n"
     ]
    }
   ],
   "source": [
    "model=Lasso(alpha=0.5)\n",
    "model.fit(X_train, y_train)\n",
    "print \"R^2:\", model.score(X_test, y_test)"
   ]
  },
  {
   "cell_type": "code",
   "execution_count": 19,
   "metadata": {
    "collapsed": true
   },
   "outputs": [],
   "source": [
    "mse= mean_squared_error(y, model.predict(X))"
   ]
  },
  {
   "cell_type": "code",
   "execution_count": 20,
   "metadata": {
    "collapsed": false
   },
   "outputs": [
    {
     "name": "stdout",
     "output_type": "stream",
     "text": [
      "mean squared error): 24.6\n"
     ]
    }
   ],
   "source": [
    "print(\"mean squared error): {:.3}\".format(mse))"
   ]
  },
  {
   "cell_type": "code",
   "execution_count": 21,
   "metadata": {
    "collapsed": false
   },
   "outputs": [
    {
     "name": "stdout",
     "output_type": "stream",
     "text": [
      "R^2: 0.677664390884\n"
     ]
    }
   ],
   "source": [
    "model=Lasso(alpha=1.0)\n",
    "model.fit(X_train, y_train)\n",
    "print \"R^2:\", model.score(X_test, y_test)"
   ]
  },
  {
   "cell_type": "code",
   "execution_count": 22,
   "metadata": {
    "collapsed": true
   },
   "outputs": [],
   "source": [
    "mse= mean_squared_error(y, model.predict(X))"
   ]
  },
  {
   "cell_type": "code",
   "execution_count": 23,
   "metadata": {
    "collapsed": false
   },
   "outputs": [
    {
     "name": "stdout",
     "output_type": "stream",
     "text": [
      "mean squared error): 27.6\n"
     ]
    }
   ],
   "source": [
    "print(\"mean squared error): {:.3}\".format(mse))\n"
   ]
  },
  {
   "cell_type": "code",
   "execution_count": null,
   "metadata": {
    "collapsed": true
   },
   "outputs": [],
   "source": []
  }
 ],
 "metadata": {
  "kernelspec": {
   "display_name": "Python 2",
   "language": "python",
   "name": "python2"
  },
  "language_info": {
   "codemirror_mode": {
    "name": "ipython",
    "version": 2
   },
   "file_extension": ".py",
   "mimetype": "text/x-python",
   "name": "python",
   "nbconvert_exporter": "python",
   "pygments_lexer": "ipython2",
   "version": "2.7.10"
  }
 },
 "nbformat": 4,
 "nbformat_minor": 0
}
